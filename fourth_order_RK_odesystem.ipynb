{
  "nbformat": 4,
  "nbformat_minor": 0,
  "metadata": {
    "colab": {
      "name": "fourth-order_RK_odesystem.ipynb",
      "provenance": [],
      "authorship_tag": "ABX9TyN2GsYXi2xwMy7n0oj4aCd0"
    },
    "kernelspec": {
      "name": "python3",
      "display_name": "Python 3"
    },
    "language_info": {
      "name": "python"
    }
  },
  "cells": [
    {
      "cell_type": "code",
      "execution_count": 26,
      "metadata": {
        "colab": {
          "base_uri": "https://localhost:8080/",
          "height": 557
        },
        "id": "LUj6m26HQdJ1",
        "outputId": "27942d0f-b07f-44ef-8265-e7e25bb63fff"
      },
      "outputs": [
        {
          "output_type": "stream",
          "name": "stdout",
          "text": [
            "        x         y         z\n",
            "0    0.00  1.000000  1.000000\n",
            "1    0.01  1.010101  1.018434\n",
            "2    0.02  1.020408  1.037056\n",
            "3    0.03  1.030926  1.055868\n",
            "4    0.04  1.041662  1.074872\n",
            "..    ...       ...       ...\n",
            "136  1.36  4.818595  4.956947\n",
            "137  1.37  4.872043  5.015411\n",
            "138  1.38  4.927116  5.074249\n",
            "139  1.39  4.983738  5.133320\n",
            "140  1.40  5.041809  5.192479\n",
            "\n",
            "[141 rows x 3 columns]\n",
            "\n"
          ]
        },
        {
          "output_type": "display_data",
          "data": {
            "text/plain": [
              "<Figure size 432x288 with 1 Axes>"
            ],
            "image/png": "[encoded data removed]"
          },
          "metadata": {
            "needs_background": "light"
          }
        }
      ],
      "source": [
        "import numpy as np\n",
        "import pandas as pd\n",
        "import matplotlib.pyplot as plt\n",
        "\n",
        "'''\n",
        "Fourth order Runge-Kutta method of the system of diff. eqs.\n",
        "  y' = f(x,y,z)\n",
        "  z' = g(x,y,z)\n",
        "'''\n",
        "\n",
        "def f(x,y,z):\n",
        "  return y + np.sin(x*z)\n",
        "\n",
        "def g(x,y,z):\n",
        "  return z + np.cos(x*y)\n",
        "\n",
        "x0, xn = 0, 1.4     # interval of x\n",
        "y0, z0 = 1, 1       # initial values\n",
        "h = 0.01            # step-size\n",
        "n = (xn - x0)/h\n",
        "\n",
        "x = [x0]\n",
        "y = [y0]\n",
        "z = [z0]\n",
        "xi, yi, zi = x0, y0, z0\n",
        "for i in range(int(np.ceil(n))):\n",
        "  k1 = h * f(xi, yi, zi)\n",
        "  l1 = h * g(xi, yi, zi)\n",
        "  k2 = h * f(xi + h/2, yi + k1/2, zi + l1/2)\n",
        "  l2 = h * g(xi + h/2, yi + k1/2, zi + l1/2)\n",
        "  k3 = h * f(xi + h/2, yi + k2/2, zi + l2/2)\n",
        "  l3 = h * g(xi + h/2, yi + k2/2, zi + l2/2)\n",
        "  k4 = h * f(xi + h, yi + k3, zi + l3)\n",
        "  l4 = h * f(xi + h, yi + k3, zi + l3)\n",
        "  yi += (k1 + 2*k2 + 2*k3 + k4)/6\n",
        "  zi += (l1 + 2*l2 + 2*l3 + l4)/6\n",
        "  xi += h\n",
        "  x.append(xi)\n",
        "  y.append(yi)\n",
        "  z.append(zi)\n",
        "solution = pd.DataFrame({'x': x, 'y': y, 'z': z})\n",
        "print(solution)\n",
        "print()\n",
        "\n",
        "plt.plot(x, y)\n",
        "plt.plot(x, z)\n",
        "plt.legend(['y(x)', 'z(x)'])\n",
        "plt.xlabel('x')\n",
        "plt.tight_layout()\n",
        "plt.show()"
      ]
    }
  ]
}