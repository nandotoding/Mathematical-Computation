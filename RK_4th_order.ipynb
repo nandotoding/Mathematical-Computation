{
  "nbformat": 4,
  "nbformat_minor": 0,
  "metadata": {
    "colab": {
      "name": "RK_4th_order.ipynb",
      "provenance": [],
      "authorship_tag": "ABX9TyNxwfNGydKbgpyDxD7tShqv"
    },
    "kernelspec": {
      "name": "python3",
      "display_name": "Python 3"
    },
    "language_info": {
      "name": "python"
    }
  },
  "cells": [
    {
      "cell_type": "code",
      "execution_count": 20,
      "metadata": {
        "colab": {
          "base_uri": "https://localhost:8080/",
          "height": 557
        },
        "id": "aZSM9F9Lqs5C",
        "outputId": "2aa4c41b-719c-419e-f26f-a0b60c44eed6"
      },
      "outputs": [
        {
          "output_type": "stream",
          "name": "stdout",
          "text": [
            "       t         x\n",
            "0    1.1  1.152216\n",
            "1    1.2  1.299666\n",
            "2    1.3  1.440835\n",
            "3    1.4  1.574443\n",
            "4    1.5  1.699428\n",
            "..   ...       ...\n",
            "85   9.6  6.286934\n",
            "86   9.7  6.254481\n",
            "87   9.8  6.223753\n",
            "88   9.9  6.195737\n",
            "89  10.0  6.171396\n",
            "\n",
            "[90 rows x 2 columns]\n",
            "\n"
          ]
        },
        {
          "output_type": "display_data",
          "data": {
            "text/plain": [
              "<Figure size 432x288 with 1 Axes>"
            ],
            "image/png": "[encoded data removed]"
          },
          "metadata": {
            "needs_background": "light"
          }
        }
      ],
      "source": [
        "import numpy as np\n",
        "import pandas as pd\n",
        "import matplotlib.pyplot as plt\n",
        "\n",
        "# dx = f(t,x) dt\n",
        "\n",
        "def f(t, x):\n",
        "  return x/t + np.cos(t)\n",
        "\n",
        "t0, tn = 1, 10    # interval of t\n",
        "x0 = 1            # initial value\n",
        "h = 0.1           # step-size\n",
        "n = (tn - t0)/h\n",
        "\n",
        "t = []\n",
        "x = []\n",
        "ti = t0\n",
        "xi = x0\n",
        "for i in range(int(np.ceil(n))):\n",
        "  k1 = h * f(ti, xi)\n",
        "  k2 = h * f(ti + h/2, xi + k1/2)\n",
        "  k3 = h * f(ti + h/2, xi + k2/2)\n",
        "  k4 = h * f(ti + h, xi + k3)\n",
        "  xi += (k1 + 2*k2 + 2*k3 + k4)/6\n",
        "  ti += h\n",
        "  t.append(ti)\n",
        "  x.append(xi)\n",
        "solution = pd.DataFrame({'t': t, 'x': x})\n",
        "print(solution)\n",
        "print()\n",
        "\n",
        "plt.plot(t, x)\n",
        "plt.xlabel('t')\n",
        "plt.ylabel('x(t)')\n",
        "plt.tight_layout()\n",
        "plt.show()"
      ]
    }
  ]
}